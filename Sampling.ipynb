{
 "cells": [
  {
   "cell_type": "markdown",
   "id": "a184f90a",
   "metadata": {},
   "source": [
    "# Sampling\n",
    "\n",
    "## Sampling Techniques Used:\n",
    "1. RandomUnderSampler\n",
    "2. SMOTE\n",
    "3. BorderlineSMOTE\n",
    "4. RandomOverSampler\n",
    "5. ADASYN (Adaptive Synthetic Sampling) \n",
    "\n",
    "## Classifiers Used:\n",
    "1. LogisticRegression\n",
    "2. DecisionTreeClassifier\n",
    "3. RandomForestClassifier\n",
    "4. SVC (Support Vector Classifier)\n",
    "5. GradientBoostingClassifier"
   ]
  },
  {
   "cell_type": "code",
   "execution_count": 4,
   "id": "801ce8ec",
   "metadata": {
    "_cell_guid": "b1076dfc-b9ad-4769-8c92-a6c4dae69d19",
    "_uuid": "8f2839f25d086af736a60e9eeb907d3b93b6e0e5",
    "execution": {
     "iopub.execute_input": "2024-02-01T11:15:00.084216Z",
     "iopub.status.busy": "2024-02-01T11:15:00.083608Z",
     "iopub.status.idle": "2024-02-01T11:15:00.466117Z",
     "shell.execute_reply": "2024-02-01T11:15:00.464742Z",
     "shell.execute_reply.started": "2024-02-01T11:15:00.084181Z"
    },
    "id": "1257fdf0",
    "papermill": {
     "duration": 1.135232,
     "end_time": "2024-01-31T14:56:55.523612",
     "exception": false,
     "start_time": "2024-01-31T14:56:54.388380",
     "status": "completed"
    },
    "tags": []
   },
   "outputs": [],
   "source": [
    "import pandas as pd\n",
    "import numpy as np"
   ]
  },
  {
   "cell_type": "code",
   "execution_count": 5,
   "id": "da511f80",
   "metadata": {
    "execution": {
     "iopub.execute_input": "2024-02-01T11:15:00.468283Z",
     "iopub.status.busy": "2024-02-01T11:15:00.467834Z",
     "iopub.status.idle": "2024-02-01T11:15:00.818062Z",
     "shell.execute_reply": "2024-02-01T11:15:00.817087Z",
     "shell.execute_reply.started": "2024-02-01T11:15:00.468253Z"
    },
    "id": "52861b79",
    "papermill": {
     "duration": 1.511742,
     "end_time": "2024-01-31T14:56:57.040343",
     "exception": false,
     "start_time": "2024-01-31T14:56:55.528601",
     "status": "completed"
    },
    "tags": []
   },
   "outputs": [],
   "source": [
    "import warnings\n",
    "from sklearn.exceptions import ConvergenceWarning\n",
    "warnings.filterwarnings(\"ignore\", category=ConvergenceWarning)"
   ]
  },
  {
   "cell_type": "code",
   "execution_count": 6,
   "id": "f6d20298",
   "metadata": {
    "colab": {
     "base_uri": "https://localhost:8080/",
     "height": 339
    },
    "execution": {
     "iopub.execute_input": "2024-02-01T11:15:00.819651Z",
     "iopub.status.busy": "2024-02-01T11:15:00.819244Z",
     "iopub.status.idle": "2024-02-01T11:15:00.847358Z",
     "shell.execute_reply": "2024-02-01T11:15:00.846251Z",
     "shell.execute_reply.started": "2024-02-01T11:15:00.819625Z"
    },
    "id": "5d52948a",
    "outputId": "4c4a9fcf-dc3a-4759-b09e-c8bcf908e5a4",
    "papermill": {
     "duration": 0.04819,
     "end_time": "2024-01-31T14:56:57.093238",
     "exception": false,
     "start_time": "2024-01-31T14:56:57.045048",
     "status": "completed"
    },
    "tags": []
   },
   "outputs": [],
   "source": [
    "df = pd.read_csv('Creditcard_data.csv')"
   ]
  },
  {
   "cell_type": "code",
   "execution_count": 7,
   "id": "95c4a721",
   "metadata": {
    "colab": {
     "base_uri": "https://localhost:8080/",
     "height": 176
    },
    "execution": {
     "iopub.execute_input": "2024-02-01T11:15:00.849661Z",
     "iopub.status.busy": "2024-02-01T11:15:00.849233Z",
     "iopub.status.idle": "2024-02-01T11:15:00.884608Z",
     "shell.execute_reply": "2024-02-01T11:15:00.883243Z",
     "shell.execute_reply.started": "2024-02-01T11:15:00.849637Z"
    },
    "id": "b47a962d",
    "outputId": "fddfbbf9-9c2c-427a-ab75-a0a002b3d8bd",
    "papermill": {
     "duration": 0.048188,
     "end_time": "2024-01-31T14:56:57.146049",
     "exception": false,
     "start_time": "2024-01-31T14:56:57.097861",
     "status": "completed"
    },
    "tags": []
   },
   "outputs": [
    {
     "data": {
      "text/html": [
       "<div>\n",
       "<style scoped>\n",
       "    .dataframe tbody tr th:only-of-type {\n",
       "        vertical-align: middle;\n",
       "    }\n",
       "\n",
       "    .dataframe tbody tr th {\n",
       "        vertical-align: top;\n",
       "    }\n",
       "\n",
       "    .dataframe thead th {\n",
       "        text-align: right;\n",
       "    }\n",
       "</style>\n",
       "<table border=\"1\" class=\"dataframe\">\n",
       "  <thead>\n",
       "    <tr style=\"text-align: right;\">\n",
       "      <th></th>\n",
       "      <th>Time</th>\n",
       "      <th>V1</th>\n",
       "      <th>V2</th>\n",
       "      <th>V3</th>\n",
       "      <th>V4</th>\n",
       "      <th>V5</th>\n",
       "      <th>V6</th>\n",
       "      <th>V7</th>\n",
       "      <th>V8</th>\n",
       "      <th>V9</th>\n",
       "      <th>...</th>\n",
       "      <th>V21</th>\n",
       "      <th>V22</th>\n",
       "      <th>V23</th>\n",
       "      <th>V24</th>\n",
       "      <th>V25</th>\n",
       "      <th>V26</th>\n",
       "      <th>V27</th>\n",
       "      <th>V28</th>\n",
       "      <th>Amount</th>\n",
       "      <th>Class</th>\n",
       "    </tr>\n",
       "  </thead>\n",
       "  <tbody>\n",
       "    <tr>\n",
       "      <th>0</th>\n",
       "      <td>0</td>\n",
       "      <td>-1.359807</td>\n",
       "      <td>-0.072781</td>\n",
       "      <td>2.536347</td>\n",
       "      <td>1.378155</td>\n",
       "      <td>-0.338321</td>\n",
       "      <td>0.462388</td>\n",
       "      <td>0.239599</td>\n",
       "      <td>0.098698</td>\n",
       "      <td>0.363787</td>\n",
       "      <td>...</td>\n",
       "      <td>-0.018307</td>\n",
       "      <td>0.277838</td>\n",
       "      <td>-0.110474</td>\n",
       "      <td>0.066928</td>\n",
       "      <td>0.128539</td>\n",
       "      <td>-0.189115</td>\n",
       "      <td>0.133558</td>\n",
       "      <td>-0.021053</td>\n",
       "      <td>149.62</td>\n",
       "      <td>0</td>\n",
       "    </tr>\n",
       "    <tr>\n",
       "      <th>1</th>\n",
       "      <td>0</td>\n",
       "      <td>1.191857</td>\n",
       "      <td>0.266151</td>\n",
       "      <td>0.166480</td>\n",
       "      <td>0.448154</td>\n",
       "      <td>0.060018</td>\n",
       "      <td>-0.082361</td>\n",
       "      <td>-0.078803</td>\n",
       "      <td>0.085102</td>\n",
       "      <td>-0.255425</td>\n",
       "      <td>...</td>\n",
       "      <td>-0.225775</td>\n",
       "      <td>-0.638672</td>\n",
       "      <td>0.101288</td>\n",
       "      <td>-0.339846</td>\n",
       "      <td>0.167170</td>\n",
       "      <td>0.125895</td>\n",
       "      <td>-0.008983</td>\n",
       "      <td>0.014724</td>\n",
       "      <td>2.69</td>\n",
       "      <td>1</td>\n",
       "    </tr>\n",
       "    <tr>\n",
       "      <th>2</th>\n",
       "      <td>1</td>\n",
       "      <td>-1.358354</td>\n",
       "      <td>-1.340163</td>\n",
       "      <td>1.773209</td>\n",
       "      <td>0.379780</td>\n",
       "      <td>-0.503198</td>\n",
       "      <td>1.800499</td>\n",
       "      <td>0.791461</td>\n",
       "      <td>0.247676</td>\n",
       "      <td>-1.514654</td>\n",
       "      <td>...</td>\n",
       "      <td>0.247998</td>\n",
       "      <td>0.771679</td>\n",
       "      <td>0.909412</td>\n",
       "      <td>-0.689281</td>\n",
       "      <td>-0.327642</td>\n",
       "      <td>-0.139097</td>\n",
       "      <td>-0.055353</td>\n",
       "      <td>-0.059752</td>\n",
       "      <td>378.66</td>\n",
       "      <td>0</td>\n",
       "    </tr>\n",
       "    <tr>\n",
       "      <th>3</th>\n",
       "      <td>1</td>\n",
       "      <td>-0.966272</td>\n",
       "      <td>-0.185226</td>\n",
       "      <td>1.792993</td>\n",
       "      <td>-0.863291</td>\n",
       "      <td>-0.010309</td>\n",
       "      <td>1.247203</td>\n",
       "      <td>0.237609</td>\n",
       "      <td>0.377436</td>\n",
       "      <td>-1.387024</td>\n",
       "      <td>...</td>\n",
       "      <td>-0.108300</td>\n",
       "      <td>0.005274</td>\n",
       "      <td>-0.190321</td>\n",
       "      <td>-1.175575</td>\n",
       "      <td>0.647376</td>\n",
       "      <td>-0.221929</td>\n",
       "      <td>0.062723</td>\n",
       "      <td>0.061458</td>\n",
       "      <td>123.50</td>\n",
       "      <td>0</td>\n",
       "    </tr>\n",
       "    <tr>\n",
       "      <th>4</th>\n",
       "      <td>2</td>\n",
       "      <td>-1.158233</td>\n",
       "      <td>0.877737</td>\n",
       "      <td>1.548718</td>\n",
       "      <td>0.403034</td>\n",
       "      <td>-0.407193</td>\n",
       "      <td>0.095921</td>\n",
       "      <td>0.592941</td>\n",
       "      <td>-0.270533</td>\n",
       "      <td>0.817739</td>\n",
       "      <td>...</td>\n",
       "      <td>-0.009431</td>\n",
       "      <td>0.798278</td>\n",
       "      <td>-0.137458</td>\n",
       "      <td>0.141267</td>\n",
       "      <td>-0.206010</td>\n",
       "      <td>0.502292</td>\n",
       "      <td>0.219422</td>\n",
       "      <td>0.215153</td>\n",
       "      <td>69.99</td>\n",
       "      <td>0</td>\n",
       "    </tr>\n",
       "  </tbody>\n",
       "</table>\n",
       "<p>5 rows × 31 columns</p>\n",
       "</div>"
      ],
      "text/plain": [
       "   Time        V1        V2        V3        V4        V5        V6        V7  \\\n",
       "0     0 -1.359807 -0.072781  2.536347  1.378155 -0.338321  0.462388  0.239599   \n",
       "1     0  1.191857  0.266151  0.166480  0.448154  0.060018 -0.082361 -0.078803   \n",
       "2     1 -1.358354 -1.340163  1.773209  0.379780 -0.503198  1.800499  0.791461   \n",
       "3     1 -0.966272 -0.185226  1.792993 -0.863291 -0.010309  1.247203  0.237609   \n",
       "4     2 -1.158233  0.877737  1.548718  0.403034 -0.407193  0.095921  0.592941   \n",
       "\n",
       "         V8        V9  ...       V21       V22       V23       V24       V25  \\\n",
       "0  0.098698  0.363787  ... -0.018307  0.277838 -0.110474  0.066928  0.128539   \n",
       "1  0.085102 -0.255425  ... -0.225775 -0.638672  0.101288 -0.339846  0.167170   \n",
       "2  0.247676 -1.514654  ...  0.247998  0.771679  0.909412 -0.689281 -0.327642   \n",
       "3  0.377436 -1.387024  ... -0.108300  0.005274 -0.190321 -1.175575  0.647376   \n",
       "4 -0.270533  0.817739  ... -0.009431  0.798278 -0.137458  0.141267 -0.206010   \n",
       "\n",
       "        V26       V27       V28  Amount  Class  \n",
       "0 -0.189115  0.133558 -0.021053  149.62      0  \n",
       "1  0.125895 -0.008983  0.014724    2.69      1  \n",
       "2 -0.139097 -0.055353 -0.059752  378.66      0  \n",
       "3 -0.221929  0.062723  0.061458  123.50      0  \n",
       "4  0.502292  0.219422  0.215153   69.99      0  \n",
       "\n",
       "[5 rows x 31 columns]"
      ]
     },
     "execution_count": 7,
     "metadata": {},
     "output_type": "execute_result"
    }
   ],
   "source": [
    "df.head()"
   ]
  },
  {
   "cell_type": "code",
   "execution_count": 10,
   "id": "c00e5a6d",
   "metadata": {
    "colab": {
     "base_uri": "https://localhost:8080/",
     "height": 228
    },
    "execution": {
     "iopub.execute_input": "2024-02-01T11:15:00.886869Z",
     "iopub.status.busy": "2024-02-01T11:15:00.886462Z",
     "iopub.status.idle": "2024-02-01T11:15:01.311601Z",
     "shell.execute_reply": "2024-02-01T11:15:01.310405Z",
     "shell.execute_reply.started": "2024-02-01T11:15:00.886830Z"
    },
    "id": "4753b2f9",
    "outputId": "4284af55-22ed-4540-f7b6-7ecff42c5a88",
    "papermill": {
     "duration": 0.698156,
     "end_time": "2024-01-31T14:56:57.849157",
     "exception": false,
     "start_time": "2024-01-31T14:56:57.151001",
     "status": "completed"
    },
    "tags": []
   },
   "outputs": [
    {
     "name": "stdout",
     "output_type": "stream",
     "text": [
      "Collecting seaborn\n",
      "  Downloading seaborn-0.13.2-py3-none-any.whl (294 kB)\n",
      "                                              0.0/294.9 kB ? eta -:--:--\n",
      "     -                                        10.2/294.9 kB ? eta -:--:--\n",
      "     -------                               61.4/294.9 kB 812.7 kB/s eta 0:00:01\n",
      "     ----------                            81.9/294.9 kB 919.0 kB/s eta 0:00:01\n",
      "     -------------------------              194.6/294.9 kB 1.3 MB/s eta 0:00:01\n",
      "     -------------------------------        245.8/294.9 kB 1.4 MB/s eta 0:00:01\n",
      "     -----------------------------------    276.5/294.9 kB 1.1 MB/s eta 0:00:01\n",
      "     -------------------------------------- 294.9/294.9 kB 1.1 MB/s eta 0:00:00\n",
      "Requirement already satisfied: numpy!=1.24.0,>=1.20 in c:\\users\\hp\\anaconda3\\envs\\mypython1\\lib\\site-packages (from seaborn) (1.25.1)\n",
      "Requirement already satisfied: pandas>=1.2 in c:\\users\\hp\\anaconda3\\envs\\mypython1\\lib\\site-packages (from seaborn) (2.0.3)\n",
      "Requirement already satisfied: matplotlib!=3.6.1,>=3.4 in c:\\users\\hp\\anaconda3\\envs\\mypython1\\lib\\site-packages (from seaborn) (3.7.2)\n",
      "Requirement already satisfied: contourpy>=1.0.1 in c:\\users\\hp\\anaconda3\\envs\\mypython1\\lib\\site-packages (from matplotlib!=3.6.1,>=3.4->seaborn) (1.1.0)\n",
      "Requirement already satisfied: cycler>=0.10 in c:\\users\\hp\\anaconda3\\envs\\mypython1\\lib\\site-packages (from matplotlib!=3.6.1,>=3.4->seaborn) (0.11.0)\n",
      "Requirement already satisfied: fonttools>=4.22.0 in c:\\users\\hp\\anaconda3\\envs\\mypython1\\lib\\site-packages (from matplotlib!=3.6.1,>=3.4->seaborn) (4.41.1)\n",
      "Requirement already satisfied: kiwisolver>=1.0.1 in c:\\users\\hp\\anaconda3\\envs\\mypython1\\lib\\site-packages (from matplotlib!=3.6.1,>=3.4->seaborn) (1.4.4)\n",
      "Requirement already satisfied: packaging>=20.0 in c:\\users\\hp\\anaconda3\\envs\\mypython1\\lib\\site-packages (from matplotlib!=3.6.1,>=3.4->seaborn) (23.0)\n",
      "Requirement already satisfied: pillow>=6.2.0 in c:\\users\\hp\\anaconda3\\envs\\mypython1\\lib\\site-packages (from matplotlib!=3.6.1,>=3.4->seaborn) (10.0.0)\n",
      "Requirement already satisfied: pyparsing<3.1,>=2.3.1 in c:\\users\\hp\\anaconda3\\envs\\mypython1\\lib\\site-packages (from matplotlib!=3.6.1,>=3.4->seaborn) (3.0.9)\n",
      "Requirement already satisfied: python-dateutil>=2.7 in c:\\users\\hp\\anaconda3\\envs\\mypython1\\lib\\site-packages (from matplotlib!=3.6.1,>=3.4->seaborn) (2.8.2)\n",
      "Requirement already satisfied: pytz>=2020.1 in c:\\users\\hp\\anaconda3\\envs\\mypython1\\lib\\site-packages (from pandas>=1.2->seaborn) (2022.7)\n",
      "Requirement already satisfied: tzdata>=2022.1 in c:\\users\\hp\\anaconda3\\envs\\mypython1\\lib\\site-packages (from pandas>=1.2->seaborn) (2023.3)\n",
      "Requirement already satisfied: six>=1.5 in c:\\users\\hp\\anaconda3\\envs\\mypython1\\lib\\site-packages (from python-dateutil>=2.7->matplotlib!=3.6.1,>=3.4->seaborn) (1.16.0)\n",
      "Installing collected packages: seaborn\n",
      "Successfully installed seaborn-0.13.2\n"
     ]
    },
    {
     "data": {
      "image/png": "[encoded data removed]",
      "text/plain": [
       "<Figure size 640x480 with 1 Axes>"
      ]
     },
     "metadata": {},
     "output_type": "display_data"
    }
   ],
   "source": [
    "!pip install seaborn\n",
    "import matplotlib.pyplot as plt\n",
    "import seaborn as sns\n",
    "\n",
    "sns.countplot(x = 'Class',data = df)\n",
    "plt.show()"
   ]
  },
  {
   "cell_type": "code",
   "execution_count": 13,
   "id": "0709060e",
   "metadata": {
    "colab": {
     "base_uri": "https://localhost:8080/",
     "height": 245
    },
    "execution": {
     "iopub.execute_input": "2024-02-01T11:15:01.313171Z",
     "iopub.status.busy": "2024-02-01T11:15:01.312837Z",
     "iopub.status.idle": "2024-02-01T11:15:02.215606Z",
     "shell.execute_reply": "2024-02-01T11:15:02.214213Z",
     "shell.execute_reply.started": "2024-02-01T11:15:01.313143Z"
    },
    "id": "4970b66f",
    "outputId": "81f413f7-e021-4d29-efcc-e8ab45803173",
    "papermill": {
     "duration": 1.231077,
     "end_time": "2024-01-31T14:56:59.085661",
     "exception": false,
     "start_time": "2024-01-31T14:56:57.854584",
     "status": "completed"
    },
    "tags": []
   },
   "outputs": [
    {
     "name": "stdout",
     "output_type": "stream",
     "text": [
      "Requirement already satisfied: imblearn in c:\\users\\hp\\anaconda3\\envs\\mypython1\\lib\\site-packages (0.0)\n",
      "Requirement already satisfied: imbalanced-learn in c:\\users\\hp\\anaconda3\\envs\\mypython1\\lib\\site-packages (from imblearn) (0.12.0)\n",
      "Requirement already satisfied: numpy>=1.17.3 in c:\\users\\hp\\anaconda3\\envs\\mypython1\\lib\\site-packages (from imbalanced-learn->imblearn) (1.25.1)\n",
      "Requirement already satisfied: scipy>=1.5.0 in c:\\users\\hp\\anaconda3\\envs\\mypython1\\lib\\site-packages (from imbalanced-learn->imblearn) (1.12.0)\n",
      "Requirement already satisfied: scikit-learn>=1.0.2 in c:\\users\\hp\\anaconda3\\envs\\mypython1\\lib\\site-packages (from imbalanced-learn->imblearn) (1.4.0)\n",
      "Requirement already satisfied: joblib>=1.1.1 in c:\\users\\hp\\anaconda3\\envs\\mypython1\\lib\\site-packages (from imbalanced-learn->imblearn) (1.3.2)\n",
      "Requirement already satisfied: threadpoolctl>=2.0.0 in c:\\users\\hp\\anaconda3\\envs\\mypython1\\lib\\site-packages (from imbalanced-learn->imblearn) (3.2.0)\n"
     ]
    }
   ],
   "source": [
    "!pip install imblearn\n",
    "from imblearn.under_sampling import RandomUnderSampler\n",
    "from imblearn.over_sampling import RandomOverSampler, SMOTE, BorderlineSMOTE, ADASYN\n",
    "import pandas as pd\n",
    "\n",
    "features = df.drop(\"Class\", axis=1)\n",
    "target = df[\"Class\"]\n",
    "\n",
    "random_state_value = 51\n",
    "\n",
    "rus = RandomUnderSampler(random_state=random_state_value)\n",
    "features_rus, target_rus = rus.fit_resample(features, target)\n",
    "df_rus = pd.concat([features_rus, target_rus], axis=1)\n",
    "df_rus.to_csv(\"data_rus.csv\", index=False)\n",
    "\n",
    "ros = RandomOverSampler(random_state=random_state_value)\n",
    "features_ros, target_ros = ros.fit_resample(features, target)\n",
    "df_ros = pd.concat([features_ros, target_ros], axis=1)\n",
    "df_ros.to_csv(\"data_ros.csv\", index=False)\n",
    "\n",
    "smote = SMOTE(random_state=random_state_value)\n",
    "features_smote, target_smote = smote.fit_resample(features, target)\n",
    "df_smote = pd.concat([features_smote, target_smote], axis=1)\n",
    "df_smote.to_csv(\"data_smote.csv\", index=False)\n",
    "\n",
    "bs = BorderlineSMOTE(random_state=random_state_value)\n",
    "features_bs, target_bs = bs.fit_resample(features, target)\n",
    "df_bs = pd.concat([features_bs, target_bs], axis=1)\n",
    "df_bs.to_csv(\"data_bs.csv\", index=False)\n",
    "\n",
    "ad = ADASYN(random_state=random_state_value)\n",
    "features_ad, target_ad = ad.fit_resample(features, target)\n",
    "df_ad = pd.concat([features_ad, target_ad], axis=1)\n",
    "df_ad.to_csv(\"data_ad.csv\", index=False)\n"
   ]
  },
  {
   "cell_type": "code",
   "execution_count": 16,
   "id": "27f3396f",
   "metadata": {
    "execution": {
     "iopub.execute_input": "2024-02-01T11:15:02.217429Z",
     "iopub.status.busy": "2024-02-01T11:15:02.217066Z",
     "iopub.status.idle": "2024-02-01T11:15:02.223985Z",
     "shell.execute_reply": "2024-02-01T11:15:02.222957Z",
     "shell.execute_reply.started": "2024-02-01T11:15:02.217399Z"
    },
    "id": "9d9bc229",
    "papermill": {
     "duration": 0.014318,
     "end_time": "2024-01-31T14:56:59.105400",
     "exception": false,
     "start_time": "2024-01-31T14:56:59.091082",
     "status": "completed"
    },
    "tags": []
   },
   "outputs": [],
   "source": [
    "from sklearn.linear_model import LogisticRegression\n",
    "from sklearn.tree import DecisionTreeClassifier\n",
    "from sklearn.ensemble import RandomForestClassifier\n",
    "from sklearn.svm import SVC\n",
    "from sklearn.ensemble import GradientBoostingClassifier\n",
    "from sklearn.model_selection import train_test_split\n",
    "from sklearn.metrics import accuracy_score"
   ]
  },
  {
   "cell_type": "code",
   "execution_count": 20,
   "id": "2f738e3e",
   "metadata": {
    "colab": {
     "base_uri": "https://localhost:8080/",
     "height": 140
    },
    "execution": {
     "iopub.execute_input": "2024-02-01T11:15:02.226437Z",
     "iopub.status.busy": "2024-02-01T11:15:02.225994Z",
     "iopub.status.idle": "2024-02-01T11:15:08.621990Z",
     "shell.execute_reply": "2024-02-01T11:15:08.621008Z",
     "shell.execute_reply.started": "2024-02-01T11:15:02.226405Z"
    },
    "id": "b12ea570",
    "outputId": "f9dc2490-cdec-4df7-8bc7-121c643d025d",
    "papermill": {
     "duration": 8.343851,
     "end_time": "2024-01-31T14:57:07.454507",
     "exception": false,
     "start_time": "2024-01-31T14:56:59.110656",
     "status": "completed"
    },
    "tags": []
   },
   "outputs": [
    {
     "data": {
      "text/html": [
       "<div>\n",
       "<style scoped>\n",
       "    .dataframe tbody tr th:only-of-type {\n",
       "        vertical-align: middle;\n",
       "    }\n",
       "\n",
       "    .dataframe tbody tr th {\n",
       "        vertical-align: top;\n",
       "    }\n",
       "\n",
       "    .dataframe thead th {\n",
       "        text-align: right;\n",
       "    }\n",
       "</style>\n",
       "<table border=\"1\" class=\"dataframe\">\n",
       "  <thead>\n",
       "    <tr style=\"text-align: right;\">\n",
       "      <th></th>\n",
       "      <th>Sampling</th>\n",
       "      <th>Classifier</th>\n",
       "      <th>Accuracy</th>\n",
       "    </tr>\n",
       "  </thead>\n",
       "  <tbody>\n",
       "    <tr>\n",
       "      <th>0</th>\n",
       "      <td>RandomUnderSampler</td>\n",
       "      <td>LogisticRegression</td>\n",
       "      <td>91.503268</td>\n",
       "    </tr>\n",
       "    <tr>\n",
       "      <th>1</th>\n",
       "      <td>RandomUnderSampler</td>\n",
       "      <td>DecisionTreeClassifier</td>\n",
       "      <td>99.346405</td>\n",
       "    </tr>\n",
       "    <tr>\n",
       "      <th>2</th>\n",
       "      <td>RandomUnderSampler</td>\n",
       "      <td>RandomForestClassifier</td>\n",
       "      <td>99.673203</td>\n",
       "    </tr>\n",
       "    <tr>\n",
       "      <th>3</th>\n",
       "      <td>RandomUnderSampler</td>\n",
       "      <td>SVC</td>\n",
       "      <td>69.607843</td>\n",
       "    </tr>\n",
       "    <tr>\n",
       "      <th>4</th>\n",
       "      <td>RandomUnderSampler</td>\n",
       "      <td>GradientBoostingClassifier</td>\n",
       "      <td>99.673203</td>\n",
       "    </tr>\n",
       "  </tbody>\n",
       "</table>\n",
       "</div>"
      ],
      "text/plain": [
       "             Sampling                  Classifier   Accuracy\n",
       "0  RandomUnderSampler          LogisticRegression  91.503268\n",
       "1  RandomUnderSampler      DecisionTreeClassifier  99.346405\n",
       "2  RandomUnderSampler      RandomForestClassifier  99.673203\n",
       "3  RandomUnderSampler                         SVC  69.607843\n",
       "4  RandomUnderSampler  GradientBoostingClassifier  99.673203"
      ]
     },
     "execution_count": 20,
     "metadata": {},
     "output_type": "execute_result"
    }
   ],
   "source": [
    "from sklearn.model_selection import train_test_split\n",
    "from sklearn.linear_model import LogisticRegression\n",
    "from sklearn.tree import DecisionTreeClassifier\n",
    "from sklearn.ensemble import RandomForestClassifier, GradientBoostingClassifier\n",
    "from sklearn.svm import SVC\n",
    "from sklearn.metrics import accuracy_score\n",
    "import pandas as pd\n",
    "\n",
    "datasets = [\"data_ros.csv\",\n",
    "            \"data_rus.csv\",\n",
    "            \"data_smote.csv\",\n",
    "            \"data_bs.csv\",\n",
    "            \"data_ad.csv\"]\n",
    "\n",
    "models = [LogisticRegression(),\n",
    "          DecisionTreeClassifier(),\n",
    "          RandomForestClassifier(),\n",
    "          SVC(),\n",
    "          GradientBoostingClassifier()]\n",
    "\n",
    "sampling_techniques = ['RandomUnderSampler', 'RandomOverSampler', 'SMOTE', 'BorderlineSMOTE', 'ADASYN']\n",
    "\n",
    "results = []\n",
    "\n",
    "for dataset, sampling_technique in zip(datasets, sampling_techniques):\n",
    "    try:\n",
    "        df = pd.read_csv(dataset)\n",
    "    except FileNotFoundError:\n",
    "        print(f\"Error: File {dataset} not found. Check the file path.\")\n",
    "        continue\n",
    "\n",
    "    X = df.drop(\"Class\", axis=1)\n",
    "    y = df[\"Class\"]\n",
    "\n",
    "    for model, model_name in zip(models, ['LogisticRegression', 'DecisionTreeClassifier', 'RandomForestClassifier', 'SVC', 'GradientBoostingClassifier']):\n",
    "        X_train, X_test, Y_train, Y_test = train_test_split(X, y, test_size=0.2, random_state=42)\n",
    "\n",
    "        model.fit(X_train, Y_train)\n",
    "        y_pred = model.predict(X_test)\n",
    "\n",
    "        accuracy = accuracy_score(Y_test, y_pred)\n",
    "        results.append({'Sampling': sampling_technique, 'Classifier': model_name, 'Accuracy': 100 * accuracy})\n",
    "\n",
    "results_df = pd.DataFrame(results)\n",
    "results_df.head()\n"
   ]
  },
  {
   "cell_type": "code",
   "execution_count": 21,
   "id": "e8334e3d",
   "metadata": {
    "execution": {
     "iopub.execute_input": "2024-02-01T11:15:08.623864Z",
     "iopub.status.busy": "2024-02-01T11:15:08.623156Z",
     "iopub.status.idle": "2024-02-01T11:15:08.648450Z",
     "shell.execute_reply": "2024-02-01T11:15:08.647511Z",
     "shell.execute_reply.started": "2024-02-01T11:15:08.623830Z"
    },
    "id": "024e243e",
    "papermill": {
     "duration": 0.032196,
     "end_time": "2024-01-31T14:57:07.492089",
     "exception": false,
     "start_time": "2024-01-31T14:57:07.459893",
     "status": "completed"
    },
    "tags": []
   },
   "outputs": [],
   "source": [
    "pivot_df = results_df.pivot_table(index='Classifier', columns='Sampling', values='Accuracy')\n",
    "pivot_df.to_csv('final.csv')"
   ]
  },
  {
   "cell_type": "code",
   "execution_count": 22,
   "id": "c8d03665",
   "metadata": {
    "execution": {
     "iopub.execute_input": "2024-02-01T11:15:08.651415Z",
     "iopub.status.busy": "2024-02-01T11:15:08.651056Z",
     "iopub.status.idle": "2024-02-01T11:15:08.666710Z",
     "shell.execute_reply": "2024-02-01T11:15:08.665051Z",
     "shell.execute_reply.started": "2024-02-01T11:15:08.651387Z"
    },
    "id": "3c2ab051",
    "outputId": "bb52f324-c574-4b4d-f037-e5ddc679e501",
    "papermill": {
     "duration": 0.02407,
     "end_time": "2024-01-31T14:57:07.521665",
     "exception": false,
     "start_time": "2024-01-31T14:57:07.497595",
     "status": "completed"
    },
    "tags": []
   },
   "outputs": [
    {
     "data": {
      "text/html": [
       "<div>\n",
       "<style scoped>\n",
       "    .dataframe tbody tr th:only-of-type {\n",
       "        vertical-align: middle;\n",
       "    }\n",
       "\n",
       "    .dataframe tbody tr th {\n",
       "        vertical-align: top;\n",
       "    }\n",
       "\n",
       "    .dataframe thead th {\n",
       "        text-align: right;\n",
       "    }\n",
       "</style>\n",
       "<table border=\"1\" class=\"dataframe\">\n",
       "  <thead>\n",
       "    <tr style=\"text-align: right;\">\n",
       "      <th>Sampling</th>\n",
       "      <th>ADASYN</th>\n",
       "      <th>BorderlineSMOTE</th>\n",
       "      <th>RandomOverSampler</th>\n",
       "      <th>RandomUnderSampler</th>\n",
       "      <th>SMOTE</th>\n",
       "    </tr>\n",
       "    <tr>\n",
       "      <th>Classifier</th>\n",
       "      <th></th>\n",
       "      <th></th>\n",
       "      <th></th>\n",
       "      <th></th>\n",
       "      <th></th>\n",
       "    </tr>\n",
       "  </thead>\n",
       "  <tbody>\n",
       "    <tr>\n",
       "      <th>DecisionTreeClassifier</th>\n",
       "      <td>98.039216</td>\n",
       "      <td>99.019608</td>\n",
       "      <td>25.0</td>\n",
       "      <td>99.346405</td>\n",
       "      <td>97.385621</td>\n",
       "    </tr>\n",
       "    <tr>\n",
       "      <th>GradientBoostingClassifier</th>\n",
       "      <td>98.692810</td>\n",
       "      <td>99.346405</td>\n",
       "      <td>25.0</td>\n",
       "      <td>99.673203</td>\n",
       "      <td>99.019608</td>\n",
       "    </tr>\n",
       "    <tr>\n",
       "      <th>LogisticRegression</th>\n",
       "      <td>91.503268</td>\n",
       "      <td>98.039216</td>\n",
       "      <td>25.0</td>\n",
       "      <td>91.503268</td>\n",
       "      <td>90.849673</td>\n",
       "    </tr>\n",
       "    <tr>\n",
       "      <th>RandomForestClassifier</th>\n",
       "      <td>99.346405</td>\n",
       "      <td>100.000000</td>\n",
       "      <td>75.0</td>\n",
       "      <td>99.673203</td>\n",
       "      <td>99.673203</td>\n",
       "    </tr>\n",
       "    <tr>\n",
       "      <th>SVC</th>\n",
       "      <td>69.281046</td>\n",
       "      <td>83.660131</td>\n",
       "      <td>0.0</td>\n",
       "      <td>69.607843</td>\n",
       "      <td>72.549020</td>\n",
       "    </tr>\n",
       "  </tbody>\n",
       "</table>\n",
       "</div>"
      ],
      "text/plain": [
       "Sampling                       ADASYN  BorderlineSMOTE  RandomOverSampler  \\\n",
       "Classifier                                                                  \n",
       "DecisionTreeClassifier      98.039216        99.019608               25.0   \n",
       "GradientBoostingClassifier  98.692810        99.346405               25.0   \n",
       "LogisticRegression          91.503268        98.039216               25.0   \n",
       "RandomForestClassifier      99.346405       100.000000               75.0   \n",
       "SVC                         69.281046        83.660131                0.0   \n",
       "\n",
       "Sampling                    RandomUnderSampler      SMOTE  \n",
       "Classifier                                                 \n",
       "DecisionTreeClassifier               99.346405  97.385621  \n",
       "GradientBoostingClassifier           99.673203  99.019608  \n",
       "LogisticRegression                   91.503268  90.849673  \n",
       "RandomForestClassifier               99.673203  99.673203  \n",
       "SVC                                  69.607843  72.549020  "
      ]
     },
     "execution_count": 22,
     "metadata": {},
     "output_type": "execute_result"
    }
   ],
   "source": [
    "pivot_df.head()"
   ]
  },
  {
   "cell_type": "code",
   "execution_count": null,
   "id": "ef0875fe",
   "metadata": {},
   "outputs": [],
   "source": []
  }
 ],
 "metadata": {
  "colab": {
   "provenance": []
  },
  "kaggle": {
   "accelerator": "none",
   "dataSources": [
    {
     "datasetId": 4374695,
     "sourceId": 7511175,
     "sourceType": "datasetVersion"
    },
    {
     "datasetId": 4385453,
     "sourceId": 7529413,
     "sourceType": "datasetVersion"
    }
   ],
   "dockerImageVersionId": 30646,
   "isGpuEnabled": false,
   "isInternetEnabled": true,
   "language": "python",
   "sourceType": "notebook"
  },
  "kernelspec": {
   "display_name": "Python 3 (ipykernel)",
   "language": "python",
   "name": "python3"
  },
  "language_info": {
   "codemirror_mode": {
    "name": "ipython",
    "version": 3
   },
   "file_extension": ".py",
   "mimetype": "text/x-python",
   "name": "python",
   "nbconvert_exporter": "python",
   "pygments_lexer": "ipython3",
   "version": "3.10.12"
  },
  "papermill": {
   "default_parameters": {},
   "duration": 16.989099,
   "end_time": "2024-01-31T14:57:08.149339",
   "environment_variables": {},
   "exception": null,
   "input_path": "__notebook__.ipynb",
   "output_path": "__notebook__.ipynb",
   "parameters": {},
   "start_time": "2024-01-31T14:56:51.160240",
   "version": "2.5.0"
  }
 },
 "nbformat": 4,
 "nbformat_minor": 5
}
